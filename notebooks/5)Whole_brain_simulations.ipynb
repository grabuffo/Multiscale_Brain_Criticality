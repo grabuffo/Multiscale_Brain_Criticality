{
 "cells": [
  {
   "cell_type": "code",
   "execution_count": 1,
   "id": "7e5ca51c-28b1-49b7-bcde-313943860b15",
   "metadata": {},
   "outputs": [],
   "source": [
    "#IMPORT\n",
    "import numpy as np\n",
    "import scipy as sp\n",
    "import sys\n",
    "import os\n",
    "import pandas as pd\n",
    "from pathlib import Path\n",
    "import pickle\n",
    "\n",
    "current_dir = Path().resolve()\n",
    "\n",
    "src_path = current_dir.parent / \"src\"\n",
    "\n",
    "# Add to sys.path\n",
    "sys.path.append(str(src_path))\n",
    "\n",
    "from tvb.simulator.lab import *\n",
    "import functions_simulator as fun\n",
    "import os\n",
    "import matplotlib.pylab as plt\n",
    "import matplotlib.cm as cm\n",
    "from scipy import stats\n",
    "import time\n",
    "import Utils as fx\n",
    "\n",
    "current_directory = os.getcwd()\n",
    "parent_directory = os.path.dirname(current_directory)"
   ]
  },
  {
   "cell_type": "code",
   "execution_count": 2,
   "id": "9155bd57-e27b-4b12-921f-9889f934e95a",
   "metadata": {},
   "outputs": [],
   "source": [
    "# Define the retry function\n",
    "def retry_function(func, attempts=5, delay=1):\n",
    "    for _ in range(attempts):\n",
    "        try:\n",
    "            return func()\n",
    "        except Exception as e:\n",
    "            print(f\"Attempt failed: {e}\")\n",
    "            time.sleep(delay)\n",
    "    # If all attempts fail, return None\n",
    "    return None"
   ]
  },
  {
   "cell_type": "markdown",
   "id": "c6d96542-9982-4d0f-a90a-5895ca2b766f",
   "metadata": {},
   "source": [
    "# Run simulations with homogeneous tuning of local parameters "
   ]
  },
  {
   "cell_type": "code",
   "execution_count": 7,
   "id": "cdc86fcf-7b39-4103-a005-41eccb75ebea",
   "metadata": {},
   "outputs": [],
   "source": [
    "a_values=[0.967, 0.973, 0.979] # ~[supercritical, critical, subcritical]"
   ]
  },
  {
   "cell_type": "code",
   "execution_count": 3,
   "id": "e5f75d11-28a8-4c87-a75d-6298f3dbc974",
   "metadata": {},
   "outputs": [],
   "source": [
    "# CONNECTIVITY\n",
    "conn_file = parent_directory+'/data/Allen_148/Allen_148.zip' #'/Allen_connectivity.zip'\n",
    "Allen_SC = fun.set_up_connectivity148(conn_file, np.infty)\n",
    "SC=Allen_SC.weights\n",
    "nroi=len(SC)\n",
    "Cortical_labels=np.array([ 0,  1,  2,  3,  4,  5,  6,  7,  8,  9, 10, 11, 12, 13, 14, 15, 16, 17, 18, 19, 20, \n",
    "                          21, 22, 23, 24, 25, 26, 27, 28, 29, 74,  75,  76,  77,  78,  79,  80,  81,  82,  83,  \n",
    "                          84,  85,  86, 87,  88,  89,  90,  91,  92,  93,  94,  95,  96,  97,  98,  99, 100, 101, 102, 103])\n",
    "\n",
    "Working_labels=Cortical_labels\n",
    "\n",
    "len(Working_labels)"
   ]
  },
  {
   "cell_type": "code",
   "execution_count": 5,
   "id": "ec79ee2b-c5ec-4190-ba66-0575d93cf14a",
   "metadata": {},
   "outputs": [],
   "source": [
    "Allen_SC.tract_lengths=Allen_SC.tract_lengths[np.ix_(Working_labels,Working_labels)]\n",
    "Allen_SC.weights=Allen_SC.weights[np.ix_(Working_labels,Working_labels)]\n",
    "Allen_SC.number_of_regions=len(Working_labels)\n",
    "\n",
    "# Structural Info\n",
    "df = pd.read_csv('../data/Allen_148/Allen_rois_nets.csv', index_col=0)"
   ]
  },
  {
   "cell_type": "markdown",
   "id": "66528421-766e-432c-9be1-d514c2c03f77",
   "metadata": {},
   "source": [
    "# Subcritical Regime"
   ]
  },
  {
   "cell_type": "code",
   "execution_count": 9,
   "id": "bcbf8e3c-cb74-480e-9133-5721657276c8",
   "metadata": {},
   "outputs": [],
   "source": [
    "G_par=np.linspace(0.,0.21,16)\n",
    "\n",
    "mean_speed=np.infty #3 #np.mean(Allen_SC.tract_lengths)/3   # conduction speed\n",
    "\n",
    "Fixed_parameters_hybrid={'J':1.25, \n",
    "                         'a':a_values[2], \n",
    "                         'sigma':0.6725, \n",
    "                         'omega':1., \n",
    "                         'v':mean_speed, \n",
    "                         'dt':.05, \n",
    "                         'sim_length':180000,\n",
    "                         'N':0.0001,\n",
    "                         'noise_seed':0,\n",
    "                         'Gs':G_par}\n",
    "\n",
    "J = Fixed_parameters_hybrid['J']\n",
    "a = Fixed_parameters_hybrid['a']\n",
    "sigma = Fixed_parameters_hybrid['sigma']\n",
    "omega = Fixed_parameters_hybrid['omega']\n",
    "v = Fixed_parameters_hybrid['v']\n",
    "sim_length = Fixed_parameters_hybrid['sim_length']\n",
    "dt = Fixed_parameters_hybrid['dt'] \n",
    "NN=Fixed_parameters_hybrid['N'] \n",
    "noise_seed=Fixed_parameters_hybrid['noise_seed'] "
   ]
  },
  {
   "cell_type": "code",
   "execution_count": 10,
   "id": "257bec59-d960-4b40-ac59-f52f004f2837",
   "metadata": {},
   "outputs": [],
   "source": [
    "# In this folder we save the whole-brain simulations\n",
    "out_folder='my_out_folder/Gscan_connectome_sub/'\n",
    "with open(out_folder+'Fixed_parameters_hybrid.pkl', 'wb') as file:\n",
    "    pickle.dump(Fixed_parameters_hybrid, file)"
   ]
  },
  {
   "cell_type": "code",
   "execution_count": 18,
   "id": "b65c0b7a-6ca0-4b8b-b1f1-e1f17a467216",
   "metadata": {},
   "outputs": [
    {
     "name": "stdout",
     "output_type": "stream",
     "text": [
      "1-loop execution time: 1639.0204 seconds\n",
      "1-loop execution time: 1660.6523 seconds\n",
      "1-loop execution time: 1766.2576 seconds\n",
      "1-loop execution time: 1778.4859 seconds\n",
      "1-loop execution time: 1640.9314 seconds\n",
      "1-loop execution time: 1586.1518 seconds\n",
      "1-loop execution time: 1630.8870 seconds\n",
      "1-loop execution time: 1573.0581 seconds\n",
      "1-loop execution time: 1609.6915 seconds\n",
      "1-loop execution time: 1600.0531 seconds\n",
      "1-loop execution time: 1618.1334 seconds\n",
      "1-loop execution time: 1597.9761 seconds\n",
      "1-loop execution time: 1597.6493 seconds\n",
      "1-loop execution time: 1584.6357 seconds\n",
      "1-loop execution time: 1600.9418 seconds\n",
      "1-loop execution time: 1557.9843 seconds\n"
     ]
    }
   ],
   "source": [
    "import time\n",
    "\n",
    "ini = 0\n",
    "for iG, G in enumerate(G_par[ini:]):\n",
    "    iG = iG + ini\n",
    "    print(iG, end='\\r')\n",
    "    # Start timer\n",
    "    start_time = time.time()\n",
    "\n",
    "    \n",
    "    \n",
    "    # Define the function to be retried\n",
    "    def call_function():\n",
    "        # Your function call here\n",
    "        t_b, B_r, B_psi, t, r, psi, input = fun.simulate_network_conduct_seed_wholeBOLD_R(Allen_SC, J, a, sigma, omega, G, NN, noise_seed, v, sim_length, dt, verbose=True)\n",
    "        return t_b, B_r, B_psi, t, r, psi, input\n",
    "    \n",
    "    # Retry the function call\n",
    "    result = retry_function(call_function, attempts=25, delay=1)\n",
    "    \n",
    "    if result is not None:\n",
    "        t_b, B_r, B_psi, t, r, psi, input = result\n",
    "\n",
    "        BOLD_R=B_r[:,:]\n",
    "        BOLD_PSI=B_psi[:,:]\n",
    "        R=r[::10,:]\n",
    "        PSI=psi[::10,:]\n",
    "        INPUT=input[::10,:]\n",
    "        my_dict = {'BOLD_R':BOLD_R,'BOLD_PSI':BOLD_PSI, 'R':R,'PSI':PSI,'INPUT':INPUT}\n",
    "\n",
    "        with open(out_folder + 'data_G%d.pkl'%iG, 'wb') as file:\n",
    "            pickle.dump(my_dict, file)\n",
    "    \n",
    "    else:\n",
    "        print(f\"Function call failed for G value {G}. Skipping...\")\n",
    "    \n",
    "    # End timer\n",
    "    end_time = time.time()\n",
    "    elapsed_time = end_time - start_time\n",
    "    \n",
    "    print(f\"1-loop execution time: {elapsed_time:.4f} seconds\")"
   ]
  },
  {
   "cell_type": "code",
   "execution_count": 17,
   "id": "710729d9-eb2a-40d4-87d1-041f9ad0e726",
   "metadata": {},
   "outputs": [
    {
     "data": {
      "text/plain": [
       "(36000, 60)"
      ]
     },
     "execution_count": 17,
     "metadata": {},
     "output_type": "execute_result"
    }
   ],
   "source": [
    "R.shape"
   ]
  },
  {
   "cell_type": "code",
   "execution_count": 18,
   "id": "c2c992e8-d749-4ac8-9d0d-b8af1ddfbc93",
   "metadata": {},
   "outputs": [
    {
     "data": {
      "text/plain": [
       "(18, 60)"
      ]
     },
     "execution_count": 18,
     "metadata": {},
     "output_type": "execute_result"
    }
   ],
   "source": [
    "BOLD_R.shape"
   ]
  },
  {
   "cell_type": "code",
   "execution_count": null,
   "id": "ada8904c-f960-40de-a22c-dd9b978b66a6",
   "metadata": {},
   "outputs": [],
   "source": []
  },
  {
   "cell_type": "markdown",
   "id": "7ec32bee-0774-41c2-a162-aa1fb2e08e04",
   "metadata": {},
   "source": [
    "# Critical Regime"
   ]
  },
  {
   "cell_type": "code",
   "execution_count": 11,
   "id": "5382ba21-7728-410a-97f9-07060ce4ddb8",
   "metadata": {},
   "outputs": [],
   "source": [
    "G_par=np.linspace(0.,0.21,16)\n",
    "\n",
    "mean_speed=np.infty #3 #np.mean(Allen_SC.tract_lengths)/3   # conduction speed\n",
    "\n",
    "Fixed_parameters_hybrid={'J':1.25, \n",
    "                         'a':a_values[1], \n",
    "                         'sigma':0.6725, \n",
    "                         'omega':1., \n",
    "                         'v':mean_speed, \n",
    "                         'dt':.05, \n",
    "                         'sim_length':180000,\n",
    "                         'N':0.0001,\n",
    "                         'noise_seed':0,\n",
    "                         'Gs':G_par}\n",
    "\n",
    "J = Fixed_parameters_hybrid['J']\n",
    "a = Fixed_parameters_hybrid['a']\n",
    "sigma = Fixed_parameters_hybrid['sigma']\n",
    "omega = Fixed_parameters_hybrid['omega']\n",
    "v = Fixed_parameters_hybrid['v']\n",
    "sim_length = Fixed_parameters_hybrid['sim_length']\n",
    "dt = Fixed_parameters_hybrid['dt'] \n",
    "NN=Fixed_parameters_hybrid['N'] \n",
    "noise_seed=Fixed_parameters_hybrid['noise_seed'] "
   ]
  },
  {
   "cell_type": "code",
   "execution_count": 12,
   "id": "3452578b-af8e-45ef-b1c3-902e8bbb0464",
   "metadata": {},
   "outputs": [],
   "source": [
    "# In this folder we save the whole-brain simulations\n",
    "out_folder='my_out_folder/Gscan_connectome_crit/'\n",
    "with open(out_folder+'Fixed_parameters_hybrid.pkl', 'wb') as file:\n",
    "    pickle.dump(Fixed_parameters_hybrid, file)"
   ]
  },
  {
   "cell_type": "code",
   "execution_count": 21,
   "id": "c54302c0-9c51-4bc6-8f22-5bd147e494b1",
   "metadata": {},
   "outputs": [
    {
     "name": "stdout",
     "output_type": "stream",
     "text": [
      "1-loop execution time: 1596.5640 seconds\n",
      "1-loop execution time: 1619.4083 seconds\n",
      "1-loop execution time: 1576.9633 seconds\n",
      "1-loop execution time: 1627.2347 seconds\n",
      "1-loop execution time: 1614.2655 seconds\n",
      "1-loop execution time: 1595.9987 seconds\n",
      "1-loop execution time: 1616.7601 seconds\n",
      "1-loop execution time: 1575.5948 seconds\n",
      "1-loop execution time: 1563.0708 seconds\n",
      "1-loop execution time: 1611.6232 seconds\n",
      "1-loop execution time: 1580.3707 seconds\n",
      "1-loop execution time: 1601.5522 seconds\n",
      "1-loop execution time: 1587.5316 seconds\n",
      "1-loop execution time: 1577.3266 seconds\n",
      "1-loop execution time: 1676.2258 seconds\n",
      "1-loop execution time: 1676.1971 seconds\n"
     ]
    }
   ],
   "source": [
    "import time\n",
    "\n",
    "ini = 0\n",
    "for iG, G in enumerate(G_par[ini:]):\n",
    "    iG = iG + ini\n",
    "    print(iG, end='\\r')\n",
    "    # Start timer\n",
    "    start_time = time.time()\n",
    "\n",
    "    \n",
    "    \n",
    "    # Define the function to be retried\n",
    "    def call_function():\n",
    "        # Your function call here\n",
    "        t_b, B_r, B_psi, t, r, psi, input = fun.simulate_network_conduct_seed_wholeBOLD_R(Allen_SC, J, a, sigma, omega, G, NN, noise_seed, v, sim_length, dt, verbose=True)\n",
    "        return t_b, B_r, B_psi, t, r, psi, input\n",
    "    \n",
    "    # Retry the function call\n",
    "    result = retry_function(call_function, attempts=25, delay=1)\n",
    "    \n",
    "    if result is not None:\n",
    "        t_b, B_r, B_psi, t, r, psi, input = result\n",
    "\n",
    "        BOLD_R=B_r[:,:]\n",
    "        BOLD_PSI=B_psi[:,:]\n",
    "        R=r[::10,:]\n",
    "        PSI=psi[::10,:]\n",
    "        INPUT=input[::10,:]\n",
    "        my_dict = {'BOLD_R':BOLD_R,'BOLD_PSI':BOLD_PSI, 'R':R,'PSI':PSI,'INPUT':INPUT}\n",
    "\n",
    "        with open(out_folder + 'data_G%d.pkl'%iG, 'wb') as file:\n",
    "            pickle.dump(my_dict, file)\n",
    "    \n",
    "    else:\n",
    "        print(f\"Function call failed for G value {G}. Skipping...\")\n",
    "    \n",
    "    # End timer\n",
    "    end_time = time.time()\n",
    "    elapsed_time = end_time - start_time\n",
    "    \n",
    "    print(f\"1-loop execution time: {elapsed_time:.4f} seconds\")"
   ]
  },
  {
   "cell_type": "code",
   "execution_count": null,
   "id": "d1f70dac-0241-4570-a8cc-4b6867685d28",
   "metadata": {},
   "outputs": [],
   "source": []
  },
  {
   "cell_type": "code",
   "execution_count": null,
   "id": "43484828-aa82-4150-a414-f11c83b76a7f",
   "metadata": {},
   "outputs": [],
   "source": []
  },
  {
   "cell_type": "code",
   "execution_count": null,
   "id": "e35fc158-31b9-48c6-8009-b887d8bb62d3",
   "metadata": {},
   "outputs": [],
   "source": []
  },
  {
   "cell_type": "markdown",
   "id": "fa0c35aa-c27c-47f8-bf3f-653878889fee",
   "metadata": {},
   "source": [
    "# Supercritical Regime"
   ]
  },
  {
   "cell_type": "code",
   "execution_count": 11,
   "id": "9d0baec0-01af-4208-bd61-e20a921877a0",
   "metadata": {},
   "outputs": [],
   "source": [
    "G_par=np.linspace(0.,0.21,16)\n",
    "\n",
    "mean_speed=np.infty \n",
    "\n",
    "Fixed_parameters_hybrid={'J':1.25, \n",
    "                         'a':a_values[0], \n",
    "                         'sigma':0.6725, \n",
    "                         'omega':1., \n",
    "                         'v':mean_speed, \n",
    "                         'dt':.05, \n",
    "                         'sim_length':180000,\n",
    "                         'N':0.0001,\n",
    "                         'noise_seed':0,\n",
    "                         'Gs':G_par}\n",
    "\n",
    "J = Fixed_parameters_hybrid['J']\n",
    "a = Fixed_parameters_hybrid['a']\n",
    "sigma = Fixed_parameters_hybrid['sigma']\n",
    "omega = Fixed_parameters_hybrid['omega']\n",
    "v = Fixed_parameters_hybrid['v']\n",
    "sim_length = Fixed_parameters_hybrid['sim_length']\n",
    "dt = Fixed_parameters_hybrid['dt'] \n",
    "NN=Fixed_parameters_hybrid['N'] \n",
    "noise_seed=Fixed_parameters_hybrid['noise_seed'] "
   ]
  },
  {
   "cell_type": "code",
   "execution_count": 13,
   "id": "0646ca6e-ef89-4e83-bcca-f2e6a4a8209b",
   "metadata": {},
   "outputs": [],
   "source": [
    "# In this folder we save the whole-brain simulations\n",
    "out_folder='my_out_folder/Gscan_connectome_super/'\n",
    "with open(out_folder+'Fixed_parameters_hybrid.pkl', 'wb') as file:\n",
    "    pickle.dump(Fixed_parameters_hybrid, file)"
   ]
  },
  {
   "cell_type": "code",
   "execution_count": 13,
   "id": "4bad83b1-a527-4f65-8cbf-a506049a6d24",
   "metadata": {},
   "outputs": [
    {
     "name": "stdout",
     "output_type": "stream",
     "text": [
      "1-loop execution time: 1665.3645 seconds\n",
      "1-loop execution time: 2476.3382 seconds\n",
      "1-loop execution time: 2429.5182 seconds\n",
      "1-loop execution time: 1940.9817 seconds\n",
      "1-loop execution time: 2248.4267 seconds\n",
      "1-loop execution time: 1771.0570 seconds\n",
      "1-loop execution time: 1813.3377 seconds\n",
      "1-loop execution time: 1708.5966 seconds\n",
      "1-loop execution time: 1689.9251 seconds\n",
      "1-loop execution time: 1586.2337 seconds\n",
      "1-loop execution time: 1592.0849 seconds\n",
      "1-loop execution time: 1588.0719 seconds\n",
      "1-loop execution time: 1592.3670 seconds\n",
      "1-loop execution time: 1583.3789 seconds\n",
      "1-loop execution time: 1585.4488 seconds\n",
      "1-loop execution time: 1606.6868 seconds\n"
     ]
    }
   ],
   "source": [
    "import time\n",
    "\n",
    "ini = 0\n",
    "for iG, G in enumerate(G_par[ini:]):\n",
    "    iG = iG + ini\n",
    "    print(iG, end='\\r')\n",
    "    # Start timer\n",
    "    start_time = time.time()\n",
    "\n",
    "    \n",
    "    \n",
    "    # Define the function to be retried\n",
    "    def call_function():\n",
    "        # Your function call here\n",
    "        t_b, B_r, B_psi, t, r, psi, input = fun.simulate_network_conduct_seed_wholeBOLD_R(Allen_SC, J, a, sigma, omega, G, NN, noise_seed, v, sim_length, dt, verbose=True)\n",
    "        return t_b, B_r, B_psi, t, r, psi, input\n",
    "    \n",
    "    # Retry the function call\n",
    "    result = retry_function(call_function, attempts=25, delay=1)\n",
    "    \n",
    "    if result is not None:\n",
    "        t_b, B_r, B_psi, t, r, psi, input = result\n",
    "\n",
    "        BOLD_R=B_r[:,:]\n",
    "        BOLD_PSI=B_psi[:,:]\n",
    "        R=r[::10,:]\n",
    "        PSI=psi[::10,:]\n",
    "        INPUT=input[::10,:]\n",
    "        my_dict = {'BOLD_R':BOLD_R,'BOLD_PSI':BOLD_PSI, 'R':R,'PSI':PSI,'INPUT':INPUT}\n",
    "\n",
    "        with open(out_folder + 'data_G%d.pkl'%iG, 'wb') as file:\n",
    "            pickle.dump(my_dict, file)\n",
    "    \n",
    "    else:\n",
    "        print(f\"Function call failed for G value {G}. Skipping...\")\n",
    "    \n",
    "    # End timer\n",
    "    end_time = time.time()\n",
    "    elapsed_time = end_time - start_time\n",
    "    \n",
    "    print(f\"1-loop execution time: {elapsed_time:.4f} seconds\")"
   ]
  }
 ],
 "metadata": {
  "kernelspec": {
   "display_name": "Python 3 (ipykernel)",
   "language": "python",
   "name": "python3"
  },
  "language_info": {
   "codemirror_mode": {
    "name": "ipython",
    "version": 3
   },
   "file_extension": ".py",
   "mimetype": "text/x-python",
   "name": "python",
   "nbconvert_exporter": "python",
   "pygments_lexer": "ipython3",
   "version": "3.10.12"
  }
 },
 "nbformat": 4,
 "nbformat_minor": 5
}
